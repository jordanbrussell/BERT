{
 "cells": [
  {
   "cell_type": "markdown",
   "metadata": {},
   "source": [
    "# ML Models - Random Forest, Decision Trees, SVM, Boosting\n",
    "### Evelina Ramoskaite"
   ]
  },
  {
   "cell_type": "code",
   "execution_count": 42,
   "metadata": {},
   "outputs": [],
   "source": [
    "# importing relevant libraries\n",
    "import csv\n",
    "import pandas as pd\n",
    "import numpy as np\n",
    "import matplotlib.pyplot as plt\n",
    "import seaborn as sns\n",
    "sns.set(font_scale=1.5)\n",
    "sns.set_style(\"whitegrid\")\n",
    "\n",
    "import itertools\n",
    "import collections\n",
    "import re\n",
    "\n",
    "import seaborn as sns\n",
    "from sklearn.model_selection import train_test_split\n",
    "from sklearn.linear_model import LogisticRegression\n",
    "import sklearn.metrics as metrics\n",
    "from sklearn.metrics import accuracy_score, precision_score\n",
    "\n",
    "\n",
    "import warnings\n",
    "warnings.filterwarnings(\"ignore\")"
   ]
  },
  {
   "cell_type": "markdown",
   "metadata": {},
   "source": [
    "### For comparison purposes, we will use the google dataset. I manually rated each of the tweets for an entire day as neutral/negative/positive."
   ]
  },
  {
   "cell_type": "code",
   "execution_count": 43,
   "metadata": {},
   "outputs": [
    {
     "data": {
      "text/plain": [
       "Index(['timestamp', 'tweet_text', 'all_hashtags', 'retweet_count',\n",
       "       'tweet_created_at', ' username', 'followers_count', 'target'],\n",
       "      dtype='object')"
      ]
     },
     "execution_count": 43,
     "metadata": {},
     "output_type": "execute_result"
    }
   ],
   "source": [
    "# Loading the Data\n",
    "\n",
    "data = pd.read_csv('rated_GOOGL.csv')\n",
    "data.columns"
   ]
  },
  {
   "cell_type": "code",
   "execution_count": 44,
   "metadata": {},
   "outputs": [
    {
     "data": {
      "text/html": [
       "<div>\n",
       "<style scoped>\n",
       "    .dataframe tbody tr th:only-of-type {\n",
       "        vertical-align: middle;\n",
       "    }\n",
       "\n",
       "    .dataframe tbody tr th {\n",
       "        vertical-align: top;\n",
       "    }\n",
       "\n",
       "    .dataframe thead th {\n",
       "        text-align: right;\n",
       "    }\n",
       "</style>\n",
       "<table border=\"1\" class=\"dataframe\">\n",
       "  <thead>\n",
       "    <tr style=\"text-align: right;\">\n",
       "      <th></th>\n",
       "      <th>timestamp</th>\n",
       "      <th>tweet_text</th>\n",
       "      <th>all_hashtags</th>\n",
       "      <th>retweet_count</th>\n",
       "      <th>tweet_created_at</th>\n",
       "      <th>username</th>\n",
       "      <th>followers_count</th>\n",
       "      <th>target</th>\n",
       "    </tr>\n",
       "  </thead>\n",
       "  <tbody>\n",
       "    <tr>\n",
       "      <th>0</th>\n",
       "      <td>5/3/2021 0:05</td>\n",
       "      <td>Today's Watchlist includes $GE $MFST $F $SL $M...</td>\n",
       "      <td>[]</td>\n",
       "      <td>0</td>\n",
       "      <td>5/3/2021 0:05</td>\n",
       "      <td>microcapcompany</td>\n",
       "      <td>7491</td>\n",
       "      <td>neutral</td>\n",
       "    </tr>\n",
       "    <tr>\n",
       "      <th>1</th>\n",
       "      <td>5/3/2021 0:05</td>\n",
       "      <td>@1MainCapital I don’t think you can answer thi...</td>\n",
       "      <td>[]</td>\n",
       "      <td>0</td>\n",
       "      <td>5/3/2021 0:05</td>\n",
       "      <td>retweettosender</td>\n",
       "      <td>1</td>\n",
       "      <td>negative</td>\n",
       "    </tr>\n",
       "    <tr>\n",
       "      <th>2</th>\n",
       "      <td>5/3/2021 0:16</td>\n",
       "      <td>China Says 33 Apps Break Rules in Gathering Us...</td>\n",
       "      <td>[]</td>\n",
       "      <td>4</td>\n",
       "      <td>5/3/2021 0:16</td>\n",
       "      <td>smartertrader</td>\n",
       "      <td>48836</td>\n",
       "      <td>negative</td>\n",
       "    </tr>\n",
       "    <tr>\n",
       "      <th>3</th>\n",
       "      <td>5/3/2021 0:16</td>\n",
       "      <td>[Last 24 Hours]  Stocks trending among elite #...</td>\n",
       "      <td>['fintwit', 'investing', 'stocks', 'wallstreet...</td>\n",
       "      <td>0</td>\n",
       "      <td>5/3/2021 0:16</td>\n",
       "      <td>ffinapse</td>\n",
       "      <td>104</td>\n",
       "      <td>positive</td>\n",
       "    </tr>\n",
       "    <tr>\n",
       "      <th>4</th>\n",
       "      <td>5/3/2021 0:17</td>\n",
       "      <td>Mega cap stock and option trading model subscr...</td>\n",
       "      <td>[]</td>\n",
       "      <td>0</td>\n",
       "      <td>5/3/2021 0:17</td>\n",
       "      <td>ProfectuSystems</td>\n",
       "      <td>422</td>\n",
       "      <td>neutral</td>\n",
       "    </tr>\n",
       "  </tbody>\n",
       "</table>\n",
       "</div>"
      ],
      "text/plain": [
       "       timestamp                                         tweet_text  \\\n",
       "0  5/3/2021 0:05  Today's Watchlist includes $GE $MFST $F $SL $M...   \n",
       "1  5/3/2021 0:05  @1MainCapital I don’t think you can answer thi...   \n",
       "2  5/3/2021 0:16  China Says 33 Apps Break Rules in Gathering Us...   \n",
       "3  5/3/2021 0:16  [Last 24 Hours]  Stocks trending among elite #...   \n",
       "4  5/3/2021 0:17  Mega cap stock and option trading model subscr...   \n",
       "\n",
       "                                        all_hashtags  retweet_count  \\\n",
       "0                                                 []              0   \n",
       "1                                                 []              0   \n",
       "2                                                 []              4   \n",
       "3  ['fintwit', 'investing', 'stocks', 'wallstreet...              0   \n",
       "4                                                 []              0   \n",
       "\n",
       "  tweet_created_at         username  followers_count    target  \n",
       "0    5/3/2021 0:05  microcapcompany             7491   neutral  \n",
       "1    5/3/2021 0:05  retweettosender                1  negative  \n",
       "2    5/3/2021 0:16    smartertrader            48836  negative  \n",
       "3    5/3/2021 0:16         ffinapse              104  positive  \n",
       "4    5/3/2021 0:17  ProfectuSystems              422   neutral  "
      ]
     },
     "execution_count": 44,
     "metadata": {},
     "output_type": "execute_result"
    }
   ],
   "source": [
    "# Tweets\n",
    "data.head(5)"
   ]
  },
  {
   "cell_type": "markdown",
   "metadata": {},
   "source": [
    "# Data Cleaning "
   ]
  },
  {
   "cell_type": "code",
   "execution_count": 45,
   "metadata": {},
   "outputs": [],
   "source": [
    "#preprocess tweets\n",
    "\n",
    "data.tweet_text =data.tweet_text.str.lower()  #tranform tweet col to lower case\n",
    "\n",
    "#Remove handlers\n",
    "\n",
    "data.tweet_text   = data.tweet_text.apply(lambda x:re.sub('@[^\\s]+','',x))\n",
    "\n",
    "# Remove URLS\n",
    "\n",
    "data.tweet_text  = data.tweet_text.apply(lambda x:re.sub(r\"http\\S+\", \"\", x))\n",
    "\n",
    "# Remove hashtags\n",
    "\n",
    "data.tweet_text  = data.tweet_text.apply(lambda x:re.sub(\"#\", \"\", x))\n",
    "\n",
    "# Remove $\n",
    "\n",
    "data.tweet_text  = data.tweet_text.apply(lambda x:re.sub(\"$\", \"\", x))\n",
    "\n",
    "#remove all single characters\n",
    "\n",
    "data.tweet_text   = data.tweet_text.apply(lambda x:re.sub(r'\\s+[a-zA-Z]\\s+', '', x))\n",
    "\n",
    "# Substituting multiple spaces with single space\n",
    "\n",
    "data.tweet_text   = data.tweet_text.apply(lambda x:re.sub(r'\\s+', ' ', x, flags=re.I))\n",
    "\n",
    "\n"
   ]
  },
  {
   "cell_type": "markdown",
   "metadata": {},
   "source": [
    "# 80/20 train/test split"
   ]
  },
  {
   "cell_type": "code",
   "execution_count": 46,
   "metadata": {},
   "outputs": [],
   "source": [
    "\n",
    "from nltk.tokenize import word_tokenize, sent_tokenize\n",
    "from nltk.stem import PorterStemmer\n",
    "from nltk.corpus import stopwords\n",
    "from sklearn.feature_extraction.text import CountVectorizer\n",
    "\n",
    "data_train, data_test = train_test_split(data, test_size=0.2)\n",
    "\n",
    "cv = CountVectorizer(tokenizer=word_tokenize, token_pattern=None)\n",
    "cv.fit(data_train.tweet_text)\n",
    "\n",
    "xtrain = cv.transform(data_train.tweet_text)\n",
    "xtest = cv.transform(data_test.tweet_text)\n",
    "\n",
    "# Setting the target variables\n",
    "ytrain = data_train.target\n",
    "ytest = data_test.target\n"
   ]
  },
  {
   "cell_type": "markdown",
   "metadata": {},
   "source": [
    "# Model Optimization (Grid Search)"
   ]
  },
  {
   "cell_type": "code",
   "execution_count": 47,
   "metadata": {},
   "outputs": [],
   "source": [
    "from sklearn.model_selection import RandomizedSearchCV\n",
    "def modelOptimization(clf,grid,x,y):\n",
    "        #Input is the classifier,grid,x,and y.\n",
    "        #performs Random Grid Search Using 5-fold Cross Validation\n",
    "        #outputs the best model and accuracy\n",
    "        clfmodel = RandomizedSearchCV(estimator = clf,n_iter=200,param_distributions = grid,scoring='accuracy', cv=5,verbose =1, random_state=2021,n_jobs=-1)\n",
    "        clfmodel.fit(x,y)\n",
    "        print('Model Best Score: \\n',clfmodel.best_score_)\n",
    "        print('Model Best Parameters: \\n',clfmodel.best_params_)"
   ]
  },
  {
   "cell_type": "markdown",
   "metadata": {},
   "source": [
    "# Model Evaluation "
   ]
  },
  {
   "cell_type": "code",
   "execution_count": 48,
   "metadata": {},
   "outputs": [],
   "source": [
    "# Metrics Report\n",
    "from sklearn.metrics import confusion_matrix\n",
    "\n",
    "def metrics_report(model):\n",
    "    \"\"\" Outputs the Accuracy rate of the model on the test set, along with a confusion matrix\"\"\"\n",
    "    # Fitting the model\n",
    "    model.fit(xtrain, ytrain)\n",
    "    \n",
    "    # Getting model predictions of the target class\n",
    "    preds = model.predict(xtest)\n",
    "    \n",
    "    # creating confusion matrix\n",
    "    confusion_matrix =  pd.crosstab(index=ytest, columns=preds.ravel(), rownames=['Expected'], colnames=['Predicted'])\n",
    "    sns.heatmap(confusion_matrix, annot=True, square=False, fmt='', cbar=False)\n",
    "    plt.title(\"Confusion Matrix\", fontsize = 40)\n",
    "    plt.show()\n",
    "    \n",
    "    # Getting accuracy score\n",
    "    print (metrics.classification_report(ytest,preds,digits=4))\n",
    "    accuracy = accuracy_score(data_test.target.values, preds)\n",
    "    print(f\"Accuracy = {accuracy}\")"
   ]
  },
  {
   "cell_type": "markdown",
   "metadata": {},
   "source": [
    "## Logistic Regression"
   ]
  },
  {
   "cell_type": "code",
   "execution_count": 8,
   "metadata": {},
   "outputs": [],
   "source": [
    "# Hyperparameter Tuning"
   ]
  },
  {
   "cell_type": "code",
   "execution_count": 9,
   "metadata": {},
   "outputs": [
    {
     "name": "stdout",
     "output_type": "stream",
     "text": [
      "Fitting 5 folds for each of 14 candidates, totalling 70 fits\n"
     ]
    },
    {
     "name": "stderr",
     "output_type": "stream",
     "text": [
      "[Parallel(n_jobs=-1)]: Using backend LokyBackend with 8 concurrent workers.\n",
      "[Parallel(n_jobs=-1)]: Done  34 tasks      | elapsed:    2.7s\n"
     ]
    },
    {
     "name": "stdout",
     "output_type": "stream",
     "text": [
      "Model Best Score: \n",
      " 0.666711895070104\n",
      "Model Best Parameters: \n",
      " {'penalty': 'l2', 'C': 1000.0}\n"
     ]
    },
    {
     "name": "stderr",
     "output_type": "stream",
     "text": [
      "[Parallel(n_jobs=-1)]: Done  70 out of  70 | elapsed:    3.3s finished\n"
     ]
    }
   ],
   "source": [
    "# Cross-Validated Grid Search\n",
    "from sklearn.model_selection import GridSearchCV\n",
    "\n",
    "loggrid={\"C\":np.logspace(-3,3,7), \"penalty\":[\"l1\",\"l2\"]}# l1 lasso l2 ridge\n",
    "logreg=LogisticRegression()\n",
    "\n",
    "modelOptimization(logreg,loggrid,xtrain,ytrain)"
   ]
  },
  {
   "cell_type": "code",
   "execution_count": 32,
   "metadata": {},
   "outputs": [],
   "source": [
    "# Best Logistic Regression Model\n",
    "lrmodel = LogisticRegression(penalty = 'l2',C=1000)\n"
   ]
  },
  {
   "cell_type": "code",
   "execution_count": 39,
   "metadata": {},
   "outputs": [
    {
     "data": {
      "image/png": "[encoded data removed]",
      "text/plain": [
       "<Figure size 432x288 with 1 Axes>"
      ]
     },
     "metadata": {},
     "output_type": "display_data"
    },
    {
     "name": "stdout",
     "output_type": "stream",
     "text": [
      "              precision    recall  f1-score   support\n",
      "\n",
      "    negative     0.8182    0.6429    0.7200        14\n",
      "     neutral     0.7250    0.7632    0.7436        38\n",
      "    positive     0.6970    0.7188    0.7077        32\n",
      "\n",
      "    accuracy                         0.7262        84\n",
      "   macro avg     0.7467    0.7083    0.7238        84\n",
      "weighted avg     0.7299    0.7262    0.7260        84\n",
      "\n",
      "Accuracy = 0.7261904761904762\n"
     ]
    }
   ],
   "source": [
    "metrics_report(lrmodel)"
   ]
  },
  {
   "cell_type": "markdown",
   "metadata": {},
   "source": [
    "### Logistic regression had the highest accuracy rate, surpassing the performance of much more complicated models."
   ]
  },
  {
   "cell_type": "markdown",
   "metadata": {},
   "source": [
    "### SVM"
   ]
  },
  {
   "cell_type": "code",
   "execution_count": 12,
   "metadata": {},
   "outputs": [
    {
     "name": "stdout",
     "output_type": "stream",
     "text": [
      "Fitting 5 folds for each of 75 candidates, totalling 375 fits\n"
     ]
    },
    {
     "name": "stderr",
     "output_type": "stream",
     "text": [
      "[Parallel(n_jobs=-1)]: Using backend LokyBackend with 8 concurrent workers.\n",
      "[Parallel(n_jobs=-1)]: Done  56 tasks      | elapsed:    0.3s\n"
     ]
    },
    {
     "name": "stdout",
     "output_type": "stream",
     "text": [
      "Model Best Score: \n",
      " 0.6666666666666666\n",
      "Model Best Parameters: \n",
      " {'kernel': 'rbf', 'gamma': 0.01, 'C': 10}\n"
     ]
    },
    {
     "name": "stderr",
     "output_type": "stream",
     "text": [
      "[Parallel(n_jobs=-1)]: Done 375 out of 375 | elapsed:    1.8s finished\n"
     ]
    }
   ],
   "source": [
    "from sklearn import svm\n",
    "svcgrid = {'C': [0.1, 1, 10, 100, 1000], \n",
    "              'gamma': [1, 0.1, 0.01, 0.001, 0.0001],\n",
    "              'kernel': ['rbf','linear','poly']} \n",
    "svc = svm.SVC()\n",
    "\n",
    "modelOptimization(svc,svcgrid,xtrain,ytrain)"
   ]
  },
  {
   "cell_type": "code",
   "execution_count": 42,
   "metadata": {},
   "outputs": [],
   "source": [
    "# Best Model\n",
    "svcmodel = svm.SVC(kernel='rbf',gamma=0.01,C=10)\n"
   ]
  },
  {
   "cell_type": "code",
   "execution_count": 43,
   "metadata": {},
   "outputs": [
    {
     "data": {
      "image/png": "[encoded data removed]",
      "text/plain": [
       "<Figure size 432x288 with 1 Axes>"
      ]
     },
     "metadata": {},
     "output_type": "display_data"
    },
    {
     "name": "stdout",
     "output_type": "stream",
     "text": [
      "              precision    recall  f1-score   support\n",
      "\n",
      "    negative     0.5625    0.6429    0.6000        14\n",
      "     neutral     0.6977    0.7895    0.7407        38\n",
      "    positive     0.7200    0.5625    0.6316        32\n",
      "\n",
      "    accuracy                         0.6786        84\n",
      "   macro avg     0.6601    0.6649    0.6574        84\n",
      "weighted avg     0.6837    0.6786    0.6757        84\n",
      "\n",
      "Accuracy = 0.6785714285714286\n"
     ]
    }
   ],
   "source": [
    "# Evaluation\n",
    "metrics_report(svcmodel)"
   ]
  },
  {
   "cell_type": "markdown",
   "metadata": {},
   "source": [
    "## Decision Tree"
   ]
  },
  {
   "cell_type": "code",
   "execution_count": 15,
   "metadata": {},
   "outputs": [
    {
     "name": "stdout",
     "output_type": "stream",
     "text": [
      "Fitting 5 folds for each of 36 candidates, totalling 180 fits\n"
     ]
    },
    {
     "name": "stderr",
     "output_type": "stream",
     "text": [
      "[Parallel(n_jobs=-1)]: Using backend LokyBackend with 8 concurrent workers.\n",
      "[Parallel(n_jobs=-1)]: Done  56 tasks      | elapsed:    0.1s\n"
     ]
    },
    {
     "name": "stdout",
     "output_type": "stream",
     "text": [
      "Model Best Score: \n",
      " 0.6308005427408412\n",
      "Model Best Parameters: \n",
      " {'max_depth': 120, 'criterion': 'entropy'}\n"
     ]
    },
    {
     "name": "stderr",
     "output_type": "stream",
     "text": [
      "[Parallel(n_jobs=-1)]: Done 180 out of 180 | elapsed:    0.4s finished\n"
     ]
    }
   ],
   "source": [
    "from sklearn import tree\n",
    "rfgrid = random_grid = {'criterion':['gini','entropy'],'max_depth':[4,5,6,7,8,9,10,11,12,15,20,30,40,50,70,90,120,150]}\n",
    "rf = tree.DecisionTreeClassifier()\n",
    "modelOptimization(rf,rfgrid,xtrain,ytrain)"
   ]
  },
  {
   "cell_type": "code",
   "execution_count": 44,
   "metadata": {},
   "outputs": [],
   "source": [
    "# Best decision tree\n",
    "dtmodel = tree.DecisionTreeClassifier(max_depth=120, criterion = 'entropy')\n"
   ]
  },
  {
   "cell_type": "code",
   "execution_count": 45,
   "metadata": {},
   "outputs": [
    {
     "data": {
      "image/png": "[encoded data removed]",
      "text/plain": [
       "<Figure size 432x288 with 1 Axes>"
      ]
     },
     "metadata": {},
     "output_type": "display_data"
    },
    {
     "name": "stdout",
     "output_type": "stream",
     "text": [
      "              precision    recall  f1-score   support\n",
      "\n",
      "    negative     0.2667    0.2857    0.2759        14\n",
      "     neutral     0.6286    0.5789    0.6027        38\n",
      "    positive     0.5000    0.5312    0.5152        32\n",
      "\n",
      "    accuracy                         0.5119        84\n",
      "   macro avg     0.4651    0.4653    0.4646        84\n",
      "weighted avg     0.5193    0.5119    0.5149        84\n",
      "\n",
      "Accuracy = 0.5119047619047619\n"
     ]
    }
   ],
   "source": [
    "# Evaluation\n",
    "metrics_report(dtmodel)"
   ]
  },
  {
   "cell_type": "markdown",
   "metadata": {},
   "source": [
    "## Random Forest "
   ]
  },
  {
   "cell_type": "code",
   "execution_count": 18,
   "metadata": {},
   "outputs": [
    {
     "name": "stdout",
     "output_type": "stream",
     "text": [
      "Fitting 5 folds for each of 200 candidates, totalling 1000 fits\n"
     ]
    },
    {
     "name": "stderr",
     "output_type": "stream",
     "text": [
      "[Parallel(n_jobs=-1)]: Using backend LokyBackend with 8 concurrent workers.\n",
      "[Parallel(n_jobs=-1)]: Done  34 tasks      | elapsed:    2.6s\n",
      "[Parallel(n_jobs=-1)]: Done 184 tasks      | elapsed:   13.5s\n",
      "[Parallel(n_jobs=-1)]: Done 434 tasks      | elapsed:   31.7s\n",
      "[Parallel(n_jobs=-1)]: Done 784 tasks      | elapsed:  1.1min\n",
      "[Parallel(n_jobs=-1)]: Done 1000 out of 1000 | elapsed:  1.4min finished\n"
     ]
    },
    {
     "name": "stdout",
     "output_type": "stream",
     "text": [
      "Model Best Score: \n",
      " 0.6576209859791949\n",
      "Model Best Parameters: \n",
      " {'n_estimators': 180, 'min_samples_split': 2, 'min_samples_leaf': 1, 'max_features': 'auto', 'max_depth': 90, 'bootstrap': False}\n"
     ]
    }
   ],
   "source": [
    "from sklearn.ensemble import RandomForestClassifier\n",
    "rfgrid = random_grid = {'bootstrap': [True, False],\n",
    "               'max_depth': [10, 20, 30, 40, 50, 60, 70, 80, 90, 100, 110, None],\n",
    "               'max_features': ['auto', 'sqrt'],\n",
    "               'min_samples_leaf': [1, 2, 4],\n",
    "               'min_samples_split': [2, 5, 10],\n",
    "               'n_estimators': [130, 180, 230]}\n",
    "rf = RandomForestClassifier()\n",
    "modelOptimization(rf,rfgrid,xtrain,ytrain)"
   ]
  },
  {
   "cell_type": "code",
   "execution_count": 46,
   "metadata": {},
   "outputs": [],
   "source": [
    "# Best Random Forest Model\n",
    "rfmodel = RandomForestClassifier(n_estimators=180,min_samples_split=2,min_samples_leaf=1,max_features='auto',max_depth=90,bootstrap=False)"
   ]
  },
  {
   "cell_type": "code",
   "execution_count": 47,
   "metadata": {},
   "outputs": [
    {
     "data": {
      "image/png": "[encoded data removed]",
      "text/plain": [
       "<Figure size 432x288 with 1 Axes>"
      ]
     },
     "metadata": {},
     "output_type": "display_data"
    },
    {
     "name": "stdout",
     "output_type": "stream",
     "text": [
      "              precision    recall  f1-score   support\n",
      "\n",
      "    negative     0.7143    0.3571    0.4762        14\n",
      "     neutral     0.6667    0.8947    0.7640        38\n",
      "    positive     0.7308    0.5938    0.6552        32\n",
      "\n",
      "    accuracy                         0.6905        84\n",
      "   macro avg     0.7039    0.6152    0.6318        84\n",
      "weighted avg     0.6990    0.6905    0.6746        84\n",
      "\n",
      "Accuracy = 0.6904761904761905\n"
     ]
    }
   ],
   "source": [
    "# Evaluation\n",
    "metrics_report(rfmodel)"
   ]
  },
  {
   "cell_type": "markdown",
   "metadata": {},
   "source": [
    "## XG BOOST"
   ]
  },
  {
   "cell_type": "code",
   "execution_count": 21,
   "metadata": {},
   "outputs": [
    {
     "name": "stdout",
     "output_type": "stream",
     "text": [
      "Fitting 5 folds for each of 200 candidates, totalling 1000 fits\n"
     ]
    },
    {
     "name": "stderr",
     "output_type": "stream",
     "text": [
      "[Parallel(n_jobs=-1)]: Using backend LokyBackend with 8 concurrent workers.\n",
      "[Parallel(n_jobs=-1)]: Done  34 tasks      | elapsed:    8.1s\n",
      "[Parallel(n_jobs=-1)]: Done 184 tasks      | elapsed:   41.6s\n",
      "[Parallel(n_jobs=-1)]: Done 434 tasks      | elapsed:  1.5min\n",
      "[Parallel(n_jobs=-1)]: Done 784 tasks      | elapsed:  2.6min\n",
      "[Parallel(n_jobs=-1)]: Done 1000 out of 1000 | elapsed:  3.3min finished\n"
     ]
    },
    {
     "name": "stdout",
     "output_type": "stream",
     "text": [
      "[15:12:38] WARNING: C:/Users/Administrator/workspace/xgboost-win64_release_1.3.0/src/learner.cc:541: \n",
      "Parameters: { alpha: } might not be used.\n",
      "\n",
      "  This may not be accurate due to some parameters are only used in language bindings but\n",
      "  passed down to XGBoost core.  Or some parameters are not used but slip through this\n",
      "  verification. Please open an issue if you find above cases.\n",
      "\n",
      "\n",
      "[15:12:38] WARNING: C:/Users/Administrator/workspace/xgboost-win64_release_1.3.0/src/learner.cc:1061: Starting in XGBoost 1.3.0, the default evaluation metric used with the objective 'multi:softprob' was changed from 'merror' to 'mlogloss'. Explicitly set eval_metric if you'd like to restore the old behavior.\n",
      "Model Best Score: \n",
      " 0.6785165083672545\n",
      "Model Best Parameters: \n",
      " {'subsample': 0.7, 'n_estimators': 25, 'max_depth': 10, 'colsample_bytree': 1.0, 'alpha:': 5}\n"
     ]
    }
   ],
   "source": [
    "import xgboost as xgb\n",
    "from xgboost import XGBClassifier\n",
    "from sklearn.metrics import mean_squared_error\n",
    "# Grid\n",
    "xgbgrid = {'n_estimators': [int(x) for x in np.linspace(start = 5, stop = 101, num = 25)],    # optimizing number of trees and tree depth\n",
    "               'max_depth': [9,10,11,12,None],\n",
    "              'subsample':[i/10 for i in range (7,11)],\n",
    "               'colsample_bytree': [i/10 for i in range (7,11)],\n",
    "                 'alpha:': [0.5,1,5]}\n",
    "xgb = XGBClassifier()\n",
    "modelOptimization(xgb,xgbgrid,xtrain,ytrain)"
   ]
  },
  {
   "cell_type": "code",
   "execution_count": 24,
   "metadata": {},
   "outputs": [],
   "source": [
    "# Best XGBoost model\n",
    "xgbmodel = XGBClassifier(subsample=0.7,n_estimators=25,max_depth=10,colsample_bytree=1,alpha=5)"
   ]
  },
  {
   "cell_type": "code",
   "execution_count": 48,
   "metadata": {},
   "outputs": [
    {
     "name": "stdout",
     "output_type": "stream",
     "text": [
      "[15:39:19] WARNING: C:/Users/Administrator/workspace/xgboost-win64_release_1.3.0/src/learner.cc:1061: Starting in XGBoost 1.3.0, the default evaluation metric used with the objective 'multi:softprob' was changed from 'merror' to 'mlogloss'. Explicitly set eval_metric if you'd like to restore the old behavior.\n"
     ]
    },
    {
     "data": {
      "image/png": "[encoded data removed]",
      "text/plain": [
       "<Figure size 432x288 with 1 Axes>"
      ]
     },
     "metadata": {},
     "output_type": "display_data"
    },
    {
     "name": "stdout",
     "output_type": "stream",
     "text": [
      "              precision    recall  f1-score   support\n",
      "\n",
      "    negative     0.5385    0.5000    0.5185        14\n",
      "     neutral     0.7317    0.7895    0.7595        38\n",
      "    positive     0.7000    0.6562    0.6774        32\n",
      "\n",
      "    accuracy                         0.6905        84\n",
      "   macro avg     0.6567    0.6486    0.6518        84\n",
      "weighted avg     0.6874    0.6905    0.6881        84\n",
      "\n",
      "Accuracy = 0.6904761904761905\n"
     ]
    }
   ],
   "source": [
    "metrics_report(xgbmodel)"
   ]
  },
  {
   "cell_type": "code",
   "execution_count": null,
   "metadata": {},
   "outputs": [],
   "source": []
  },
  {
   "cell_type": "code",
   "execution_count": null,
   "metadata": {},
   "outputs": [],
   "source": []
  }
 ],
 "metadata": {
  "kernelspec": {
   "display_name": "Python 3",
   "language": "python",
   "name": "python3"
  },
  "language_info": {
   "codemirror_mode": {
    "name": "ipython",
    "version": 3
   },
   "file_extension": ".py",
   "mimetype": "text/x-python",
   "name": "python",
   "nbconvert_exporter": "python",
   "pygments_lexer": "ipython3",
   "version": "3.8.5"
  }
 },
 "nbformat": 4,
 "nbformat_minor": 4
}
